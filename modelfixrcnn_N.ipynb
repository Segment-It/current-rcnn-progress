{
 "cells": [
  {
   "cell_type": "code",
   "execution_count": 9,
   "metadata": {},
   "outputs": [],
   "source": [
    "import os\n",
    "import numpy as np\n",
    "import tensorflow as tf\n",
    "from keras.applications import MobileNetV2\n",
    "from keras.layers import GlobalAveragePooling2D, Dense, Conv2D, MaxPooling2D, Flatten, Input\n",
    "from keras.models import Model\n",
    "from keras.optimizers import Adam\n",
    "from keras.preprocessing.image import ImageDataGenerator\n",
    "from sklearn.model_selection import train_test_split\n",
    "from sklearn.preprocessing import LabelEncoder"
   ]
  },
  {
   "cell_type": "markdown",
   "metadata": {},
   "source": [
    "Set Up Model with different input using channels "
   ]
  },
  {
   "cell_type": "code",
   "execution_count": 18,
   "metadata": {},
   "outputs": [
    {
     "name": "stdout",
     "output_type": "stream",
     "text": [
      "WARNING:tensorflow:`input_shape` is undefined or non-square, or `rows` is not in [96, 128, 160, 192, 224]. Weights for input shape (224, 224) will be loaded as the default.\n",
      "Model: \"model_4\"\n",
      "__________________________________________________________________________________________________\n",
      " Layer (type)                   Output Shape         Param #     Connected to                     \n",
      "==================================================================================================\n",
      " json_input (InputLayer)        [(None, None)]       0           []                               \n",
      "                                                                                                  \n",
      " image_input (InputLayer)       [(None, 256, 256, 3  0           []                               \n",
      "                                )]                                                                \n",
      "                                                                                                  \n",
      " embedding_2 (Embedding)        (None, None, 4)      2000        ['json_input[0][0]']             \n",
      "                                                                                                  \n",
      " mobilenetv2_1.00_224 (Function  (None, 8, 8, 1280)  2257984     ['image_input[0][0]']            \n",
      " al)                                                                                              \n",
      "                                                                                                  \n",
      " reshape_1 (Reshape)            (None, 1, 1, 4)      0           ['embedding_2[0][0]']            \n",
      "                                                                                                  \n",
      " global_average_pooling2d_2 (Gl  multiple            0           ['mobilenetv2_1.00_224[0][0]',   \n",
      " obalAveragePooling2D)                                            'reshape_1[0][0]']              \n",
      "                                                                                                  \n",
      " dense_3 (Dense)                (None, 64)           81984       ['global_average_pooling2d_2[0][0\n",
      "                                                                 ]']                              \n",
      "                                                                                                  \n",
      " dense_4 (Dense)                (None, 64)           320         ['global_average_pooling2d_2[1][0\n",
      "                                                                 ]']                              \n",
      "                                                                                                  \n",
      " class_output (Dense)           (None, 1)            65          ['dense_3[0][0]']                \n",
      "                                                                                                  \n",
      " bbox_output (Dense)            (None, 4)            260         ['dense_4[0][0]']                \n",
      "                                                                                                  \n",
      " combined_output (Concatenate)  (None, 5)            0           ['class_output[0][0]',           \n",
      "                                                                  'bbox_output[0][0]']            \n",
      "                                                                                                  \n",
      "==================================================================================================\n",
      "Total params: 2,342,613\n",
      "Trainable params: 2,308,501\n",
      "Non-trainable params: 34,112\n",
      "__________________________________________________________________________________________________\n"
     ]
    }
   ],
   "source": [
    "from keras.models import Model\n",
    "from keras.layers import Input, Dense, GlobalAveragePooling2D, concatenate, Embedding, Reshape\n",
    "from keras.applications import MobileNetV2\n",
    "\n",
    "# Define shared layers\n",
    "shared_conv = GlobalAveragePooling2D()\n",
    "\n",
    "# Create input channels for image and JSON data\n",
    "image_input = Input(shape=(256, 256, 3), name='image_input')\n",
    "json_input = Input(shape=(None,), name='json_input')\n",
    "\n",
    "# Image branch\n",
    "# Define shared MobileNetV2 base model for image\n",
    "base_model = MobileNetV2(weights='imagenet', include_top=False, input_shape=(256, 256, 3))\n",
    "image_features = base_model(image_input)\n",
    "image_features = shared_conv(image_features)\n",
    "image_branch = Dense(64, activation='relu')(image_features)\n",
    "class_output = Dense(1, activation='sigmoid', name='class_output')(image_branch)\n",
    "\n",
    "# JSON branch using Embedding layer\n",
    "json_embedding = Embedding(input_dim=500, output_dim=4)(json_input)\n",
    "# You can adjust input_dim as needed\n",
    "json_reshaped = Reshape((1, 1, 4))(json_embedding)  # Reshape to match image feature shape\n",
    "json_features = shared_conv(json_reshaped)\n",
    "json_branch = Dense(64, activation='relu')(json_features)\n",
    "bbox_output = Dense(4, activation='linear', name='bbox_output')(json_branch)\n",
    "\n",
    "\n",
    "# Combine the outputs of both branches\n",
    "combined_output = concatenate([class_output, bbox_output], name='combined_output')\n",
    "\n",
    "# Create the final model\n",
    "model = Model(inputs=[image_input, json_input], outputs=combined_output)\n",
    "\n",
    "# Summary of the model\n",
    "model.summary()\n"
   ]
  },
  {
   "cell_type": "markdown",
   "metadata": {},
   "source": [
    "Train Image Classification with Imagedata Generator"
   ]
  },
  {
   "cell_type": "code",
   "execution_count": 11,
   "metadata": {},
   "outputs": [
    {
     "name": "stdout",
     "output_type": "stream",
     "text": [
      "Found 0 images belonging to 1 classes.\n",
      "Found 0 images belonging to 1 classes.\n"
     ]
    }
   ],
   "source": [
    "from keras.preprocessing.image import ImageDataGenerator\n",
    "\n",
    "TRAINING_DIR = \"C:\\\\Users\\\\Armand S\\\\Documents\\\\Kerja Praktek\\\\RCNN\\\\train\"\n",
    "training_datagen = ImageDataGenerator(rescale=1./255)\n",
    "\n",
    "VALIDATION_DIR = \"C:\\\\Users\\\\Armand S\\\\Documents\\\\Kerja Praktek\\\\RCNN\\\\val\"\n",
    "validation_datagen = ImageDataGenerator(rescale=1./255)\n",
    "\n",
    "image_train_generator = training_datagen.flow_from_directory(\n",
    "    TRAINING_DIR,\n",
    "    target_size=(256, 256),\n",
    "    class_mode='sparse',      # Use 'sparse' for single-class classification\n",
    "    classes=['meningioma'],  \n",
    "    batch_size=32\n",
    ")\n",
    "\n",
    "image_validation_generator = validation_datagen.flow_from_directory(\n",
    "    VALIDATION_DIR,\n",
    "    target_size=(256, 256),\n",
    "    class_mode='sparse',      # Use 'sparse' for single-class classification\n",
    "    classes=['meningioma'],  \n",
    "    batch_size=32\n",
    ")\n"
   ]
  },
  {
   "cell_type": "code",
   "execution_count": 5,
   "metadata": {},
   "outputs": [
    {
     "name": "stdout",
     "output_type": "stream",
     "text": [
      "Epoch 1/7\n",
      "96/96 [==============================] - 365s 4s/step - loss: 0.0076 - accuracy: 0.9951 - val_loss: 2.4842e-05 - val_accuracy: 1.0000\n",
      "Epoch 2/7\n",
      "96/96 [==============================] - 243s 3s/step - loss: 1.5126e-07 - accuracy: 1.0000 - val_loss: 4.1418e-05 - val_accuracy: 1.0000\n",
      "Epoch 3/7\n",
      "96/96 [==============================] - 226s 2s/step - loss: 1.0247e-07 - accuracy: 1.0000 - val_loss: 3.6189e-05 - val_accuracy: 1.0000\n",
      "Epoch 4/7\n",
      "96/96 [==============================] - 229s 2s/step - loss: 8.8945e-08 - accuracy: 1.0000 - val_loss: 2.4092e-05 - val_accuracy: 1.0000\n",
      "Epoch 5/7\n",
      "96/96 [==============================] - 223s 2s/step - loss: 6.1704e-08 - accuracy: 1.0000 - val_loss: 1.3810e-05 - val_accuracy: 1.0000\n",
      "Epoch 6/7\n",
      "96/96 [==============================] - 225s 2s/step - loss: 5.3337e-08 - accuracy: 1.0000 - val_loss: 6.8693e-06 - val_accuracy: 1.0000\n",
      "Epoch 7/7\n",
      "96/96 [==============================] - 223s 2s/step - loss: 4.8955e-08 - accuracy: 1.0000 - val_loss: 3.5572e-06 - val_accuracy: 1.0000\n",
      "WARNING:tensorflow:Compiled the loaded model, but the compiled metrics have yet to be built. `model.compile_metrics` will be empty until you train or evaluate the model.\n"
     ]
    }
   ],
   "source": [
    "from keras.callbacks import CSVLogger\n",
    "\n",
    "image_model = Model(inputs=image_input, outputs=class_output)\n",
    "image_model.compile(optimizer='adam', loss='binary_crossentropy', metrics=['accuracy'])\n",
    "\n",
    "# Callback to log training metrics to CSV\n",
    "csv_logger = CSVLogger('training_metrics_classifier.csv', separator=',', append=False)\n",
    "\n",
    "# Train the model\n",
    "history = image_model.fit (image_train_generator,\n",
    "                    epochs=7,\n",
    "                    steps_per_epoch=len(image_train_generator),\n",
    "                    validation_data=image_validation_generator,\n",
    "                    validation_steps=len(image_validation_generator),\n",
    "                    callbacks=[csv_logger])\n",
    "\n",
    "# Save the trained model\n",
    "model.save(\"C:\\\\Users\\\\Armand S\\\\Documents\\\\Kerja Praktek\\\\RCNN\\\\classifiermodel.h5\")\n"
   ]
  },
  {
   "cell_type": "code",
   "execution_count": 7,
   "metadata": {},
   "outputs": [],
   "source": [
    "import matplotlib.pyplot as plt"
   ]
  },
  {
   "cell_type": "code",
   "execution_count": 8,
   "metadata": {},
   "outputs": [
    {
     "data": {
      "image/png": "[encoded data removed]",
      "text/plain": [
       "<Figure size 1200x400 with 2 Axes>"
      ]
     },
     "metadata": {},
     "output_type": "display_data"
    },
    {
     "data": {
      "text/plain": [
       "<Figure size 640x480 with 0 Axes>"
      ]
     },
     "metadata": {},
     "output_type": "display_data"
    }
   ],
   "source": [
    "# Plot training metrics\n",
    "plt.figure(figsize=(12, 4))\n",
    "\n",
    "# Plot accuracy\n",
    "plt.subplot(1, 2, 1)\n",
    "plt.plot(history.history['accuracy'], label='Training Accuracy')\n",
    "plt.plot(history.history['val_accuracy'], label='Validation Accuracy')\n",
    "plt.xlabel('Epoch')\n",
    "plt.ylabel('Accuracy')\n",
    "plt.title('Training and Validation Accuracy')\n",
    "plt.legend()\n",
    "\n",
    "# Plot loss\n",
    "plt.subplot(1, 2, 2)\n",
    "plt.plot(history.history['loss'], label='Training Loss')\n",
    "plt.plot(history.history['val_loss'], label='Validation Loss')\n",
    "plt.xlabel('Epoch')\n",
    "plt.ylabel('Loss')\n",
    "plt.title('Training and Validation Loss')\n",
    "plt.legend()\n",
    "\n",
    "plt.tight_layout()\n",
    "plt.show()\n",
    "\n",
    "graph_path = '/Users/nadhiraprakosa/Documents/hell:kuliah/KP/lokalisasi segmentasi code/final files/graph/classificationgraph.png'\n",
    "plt.savefig(graph_path)"
   ]
  },
  {
   "cell_type": "markdown",
   "metadata": {},
   "source": [
    "Training Json File"
   ]
  },
  {
   "cell_type": "code",
   "execution_count": 15,
   "metadata": {},
   "outputs": [],
   "source": [
    "import os\n",
    "import json\n",
    "import numpy as np\n",
    "from keras.utils import Sequence\n",
    "\n",
    "class CustomDataGenerator(Sequence):\n",
    "    def __init__(self, json_dir, true_bbox, batch_size, image_size):\n",
    "        self.json_dir = json_dir\n",
    "        self.true_bbox = true_bbox\n",
    "        self.batch_size = batch_size\n",
    "        self.image_size = image_size\n",
    "        self.image_width, self.image_height = image_size\n",
    "        self.json_files = [filename for filename in os.listdir(json_dir) if filename.endswith('.json')]\n",
    "        self.indexes = np.arange(len(self.json_files))\n",
    "    \n",
    "    def __len__(self):\n",
    "        return int(np.ceil(len(self.json_files) / self.batch_size))\n",
    "    \n",
    "    def __getitem__(self, index):\n",
    "        start = index * self.batch_size\n",
    "        end = (index + 1) * self.batch_size\n",
    "        batch_json_files = self.json_files[start:end]\n",
    "        \n",
    "        batch_images = []  # Placeholder for images (not loaded from file)\n",
    "        batch_bbox = []    # Placeholder for bounding box coordinates\n",
    "        \n",
    "        for filename in batch_json_files:\n",
    "            with open(os.path.join(self.json_dir, filename), 'r') as json_file:\n",
    "                data = json.load(json_file)\n",
    "                bbox = data[0]['bbox']  # Extract the 'bbox' list from the first dictionary in the list\n",
    "                x1, y1, x2, y2 = bbox\n",
    "\n",
    "                # Normalize bounding box coordinates to [0, 1]\n",
    "                x1 = x1 / self.image_width\n",
    "                y1 = y1 / self.image_height\n",
    "                x2 = x2 / self.image_width\n",
    "                y2 = y2 / self.image_height\n",
    "\n",
    "        batch_bbox.append([x1, y1, x2, y2])\n",
    "                \n",
    "        return np.array(batch_images), np.array(batch_bbox)\n"
   ]
  },
  {
   "cell_type": "code",
   "execution_count": 16,
   "metadata": {},
   "outputs": [],
   "source": [
    "\n",
    "# Directory paths for training and validation JSON annotation files\n",
    "# Directory paths for training and validation JSON annotation files\n",
    "TRAIN_JSON_DIR = '/Users/nadhiraprakosa/Documents/hell:kuliah/KP/lokalisasi segmentasi code/final files/annotation/train_json'\n",
    "VALIDATION_JSON_DIR = '/Users/nadhiraprakosa/Documents/hell:kuliah/KP/lokalisasi segmentasi code/final files/annotation/val_json'\n",
    "\n",
    "# Load true bounding box coordinates from training JSON files\n",
    "train_true_bbox_list = []\n",
    "for filename in os.listdir(TRAIN_JSON_DIR):\n",
    "    if filename.endswith('.json'):\n",
    "        with open(os.path.join(TRAIN_JSON_DIR, filename), 'r') as json_file:\n",
    "            data = json.load(json_file)\n",
    "            bbox = data[0]['bbox']  \n",
    "            x1, y1, x2, y2 = bbox\n",
    "            train_true_bbox_list.append([x1, y1, x2, y2])\n",
    "\n",
    "# Convert the list of true bounding boxes to a numpy array for training\n",
    "train_true_bbox = np.array(train_true_bbox_list)\n",
    "\n",
    "# Load true bounding box coordinates from validation JSON files\n",
    "validation_true_bbox_list = []\n",
    "for filename in os.listdir(VALIDATION_JSON_DIR):\n",
    "    if filename.endswith('.json'):\n",
    "        with open(os.path.join(VALIDATION_JSON_DIR, filename), 'r') as json_file:\n",
    "            data = json.load(json_file)\n",
    "            bbox = data[0]['bbox']  # Extract the 'bbox' list from the first dictionary in the list\n",
    "            x1, y1, x2, y2 = bbox\n",
    "            validation_true_bbox_list.append([x1, y1, x2, y2])\n",
    "\n",
    "# Convert the list of true bounding boxes to a numpy array for validation\n",
    "validation_true_bbox = np.array(validation_true_bbox_list)\n",
    "\n",
    "# Create custom data generators for training and validation\n",
    "train_generator = CustomDataGenerator(TRAIN_JSON_DIR, train_true_bbox, batch_size=32, image_size=(256, 256))\n",
    "validation_generator = CustomDataGenerator(VALIDATION_JSON_DIR, validation_true_bbox, batch_size=32, image_size=(256, 256))\n"
   ]
  },
  {
   "cell_type": "code",
   "execution_count": 23,
   "metadata": {},
   "outputs": [
    {
     "name": "stdout",
     "output_type": "stream",
     "text": [
      "Epoch 1/7\n",
      "WARNING:tensorflow:Model was constructed with shape (None, None) for input KerasTensor(type_spec=TensorSpec(shape=(None, None), dtype=tf.float32, name='json_input'), name='json_input', description=\"created by layer 'json_input'\"), but it was called on an input with incompatible shape (None,).\n",
      "WARNING:tensorflow:Model was constructed with shape (None, None) for input KerasTensor(type_spec=TensorSpec(shape=(None, None), dtype=tf.float32, name='json_input'), name='json_input', description=\"created by layer 'json_input'\"), but it was called on an input with incompatible shape (None,).\n",
      "87/96 [==========================>...] - ETA: 0s - loss: 0.0000e+00 - mse: 0.0000e+00WARNING:tensorflow:Model was constructed with shape (None, None) for input KerasTensor(type_spec=TensorSpec(shape=(None, None), dtype=tf.float32, name='json_input'), name='json_input', description=\"created by layer 'json_input'\"), but it was called on an input with incompatible shape (None,).\n",
      "96/96 [==============================] - 1s 5ms/step - loss: 0.0000e+00 - mse: 0.0000e+00 - val_loss: 0.0000e+00 - val_mse: 0.0000e+00\n",
      "Epoch 2/7\n",
      "96/96 [==============================] - 0s 2ms/step - loss: 0.0000e+00 - mse: 0.0000e+00 - val_loss: 0.0000e+00 - val_mse: 0.0000e+00\n",
      "Epoch 3/7\n",
      "96/96 [==============================] - 0s 2ms/step - loss: 0.0000e+00 - mse: 0.0000e+00 - val_loss: 0.0000e+00 - val_mse: 0.0000e+00\n",
      "Epoch 4/7\n",
      "96/96 [==============================] - 0s 2ms/step - loss: 0.0000e+00 - mse: 0.0000e+00 - val_loss: 0.0000e+00 - val_mse: 0.0000e+00\n",
      "Epoch 5/7\n",
      "96/96 [==============================] - 0s 2ms/step - loss: 0.0000e+00 - mse: 0.0000e+00 - val_loss: 0.0000e+00 - val_mse: 0.0000e+00\n",
      "Epoch 6/7\n",
      "96/96 [==============================] - 0s 2ms/step - loss: 0.0000e+00 - mse: 0.0000e+00 - val_loss: 0.0000e+00 - val_mse: 0.0000e+00\n",
      "Epoch 7/7\n",
      "96/96 [==============================] - 0s 2ms/step - loss: 0.0000e+00 - mse: 0.0000e+00 - val_loss: 0.0000e+00 - val_mse: 0.0000e+00\n"
     ]
    }
   ],
   "source": [
    "from keras.callbacks import CSVLogger\n",
    "\n",
    "json_model = Model(inputs=json_input, outputs=bbox_output)\n",
    "json_model.compile(optimizer='adam', loss='mean_squared_error', metrics=['mse'])\n",
    "\n",
    "# Callback to log training metrics to CSV\n",
    "csv_logger = CSVLogger('jsontraining_metrics.csv', separator=',', append=False)\n",
    "\n",
    "history = json_model.fit(\n",
    "    train_generator,\n",
    "    epochs=7,\n",
    "    steps_per_epoch=len(train_generator),\n",
    "    validation_data=validation_generator,\n",
    "    validation_steps=len(validation_generator),\n",
    "    callbacks=[csv_logger]\n",
    ")\n"
   ]
  }
 ],
 "metadata": {
  "kernelspec": {
   "display_name": "base",
   "language": "python",
   "name": "python3"
  },
  "language_info": {
   "codemirror_mode": {
    "name": "ipython",
    "version": 3
   },
   "file_extension": ".py",
   "mimetype": "text/x-python",
   "name": "python",
   "nbconvert_exporter": "python",
   "pygments_lexer": "ipython3",
   "version": "3.10.11"
  },
  "orig_nbformat": 4
 },
 "nbformat": 4,
 "nbformat_minor": 2
}
